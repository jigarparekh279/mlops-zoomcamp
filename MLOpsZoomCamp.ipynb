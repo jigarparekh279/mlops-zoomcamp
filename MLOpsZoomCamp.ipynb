{
 "cells": [
  {
   "cell_type": "markdown",
   "id": "ee32dd39",
   "metadata": {},
   "source": [
    "## Most Important Steps\n",
    "\n",
    "Full play list -> [YouTube](https://www.youtube.com/playlist?list=PL3MmuxUbc_hIUISrluw_A7wDSmfOhErJK) "
   ]
  },
  {
   "cell_type": "markdown",
   "id": "9b4d76f8",
   "metadata": {},
   "source": [
    "### 1. Environment preparation\n",
    "\n",
    "Steps [here](https://youtu.be/IXSiYkP23zo?list=PL3MmuxUbc_hIUISrluw_A7wDSmfOhErJK)"
   ]
  },
  {
   "cell_type": "markdown",
   "id": "b5c3e5d9",
   "metadata": {},
   "source": [
    "(Optional if you already have a good enough local machine or in-house cluster account)\n",
    "\n",
    "- Launch a [EC2 machine on AWS](https://eu-central-1.console.aws.amazon.com/ec2/home?region=eu-central-1#Home:) --> see steps\n",
    "\n",
    "- Now ssh to the EC2 machine (better add it to the `.ssh/config` file) --> see steps\n",
    "\n",
    "    NOTE: The error msg while accessing EC2 machine means SSH refuses to use your `pem` key because it’s not private enough. Right now the .pem file has permissions 0664 → readable by you, your group, and others. That’s insecure, since anyone else on the system could copy your private key. Fix -\n",
    "\n",
    "    ```sh\n",
    "    chmod 600 /home/jigar/.ssh/mlops-zoomcamp.pem\n",
    "    ```\n",
    "\n",
    "    NOTE: after adding this EC2 machine to ssh config file we can simple do -\n",
    "\n",
    "    ```sh\n",
    "    ssh ec2-mlops-zoomcamp\n",
    "    ```"
   ]
  },
  {
   "cell_type": "markdown",
   "id": "1d004cc4",
   "metadata": {},
   "source": [
    "------------------------------------------------------------------------------------------\n",
    "- A little _detour_ to make the EC2 terminal pretty, convenient and development ready\n",
    "\n",
    "    ```sh\n",
    "    sudo apt update\n",
    "    # install zsh git curl\n",
    "    sudo apt install -y zsh git curl \n",
    "    sh -c \"$(wget -O- https://raw.githubusercontent.com/ohmyzsh/ohmyzsh/master/tools/install.sh)\"\n",
    "    ```\n",
    "\n",
    "    Type 'y' when asked if you want zsh your default shell\n",
    "\n",
    "    Install more packages as needed e.g.\n",
    "\n",
    "    ```sh\n",
    "    sudo apt install -y tree\n",
    "    # usage\n",
    "    tree -L 3\n",
    "    ```\n",
    "\n",
    "    Add useful aliases e.g.\n",
    "\n",
    "    ```sh\n",
    "    echo \"alias cls='clear; ls -l --color=auto'\" >> ~/.zshrc && source ~/.zshrc\n",
    "    ``\n",
    "------------------------------------------------------------------------------------------"
   ]
  },
  {
   "cell_type": "markdown",
   "id": "2b6d9af2",
   "metadata": {},
   "source": [
    "- This EC2 machine comes with very latest version of python. But we want to use and older version that works with other libraries we intent to use. For this reason we download (using wget from [here](https://www.anaconda.com/download/success)) and install anaconda to create an env wth desired python version and libraries. --> see steps\n",
    "\n",
    "    ```sh\n",
    "    mkdir software; cd software; mkdir anaconda\n",
    "    wget https://repo.anaconda.com/archive/Anaconda3-2025.06-0-Linux-x86_64.sh\n",
    "    bash Anaconda3-2025.06-0-Linux-x86_64.sh\n",
    "    ```\n",
    "\n",
    "    - Specify the installation path as `/home/ubuntu/software/anaconda/anaconda3`\n",
    "\n",
    "    - Enter `yes` when prompted  with -\n",
    "\n",
    "        ```\n",
    "        Do you wish to update your shell profile to automatically initialize conda?\n",
    "        .\n",
    "        .\n",
    "        You can undo this by running `conda init --reverse $SHELL`? [yes|no]\n",
    "        [no] >>>\n",
    "        ```\n",
    "\n",
    "    - This initializes conda env every time we log in (notice `(base) ➜  ~` every new log in). For more details on how this works see ~./zshrc line starting with  `# >>> conda initialize >>>`"
   ]
  },
  {
   "cell_type": "markdown",
   "id": "984c1d12",
   "metadata": {},
   "source": [
    "- We now install docker and docker compose as we will need it later for containerization --> see steps\n",
    "\n",
    "    ```sh\n",
    "    sudo apt update\n",
    "    sudo apt install docker.io\n",
    "\n",
    "    cd /home/ubuntu/software/\n",
    "    mkdir docker\n",
    "    wget https://github.com/docker/compose/releases/latest/download/docker-compose-$(uname -s)-$(uname -m) -o docker-compose\n",
    "    chmod +x docker-compose\n",
    "    ```\n",
    "    Add path to docker compose to $PATH\n",
    "\n",
    "    ```sh\n",
    "    echo \"\\n# Path to docker\" >> ~/.zshrc && source ~/.zshrc\n",
    "    echo 'export PATH=\"${HOME}/software/docker:${PATH}\"' >> ~/.zshrc && source ~/.zshrc\n",
    "    ```\n",
    "\n",
    "- To run docker we need to use `sudo` everytime :(. To avoid this we need to our user to _docker group_\n",
    "\n",
    "    ```sh\n",
    "    sudo groupadd docker # group 'docker' already exists\n",
    "    sudo usermod -aG docker $USER # we add ourselves to user group of docker\n",
    "    ```\n",
    "\n",
    "    Then log out of EC2 machine and log back, and test using `docker run hello-world:latest` --> works w/o sudo! :)"
   ]
  },
  {
   "cell_type": "markdown",
   "id": "53df9561",
   "metadata": {},
   "source": []
  }
 ],
 "metadata": {
  "kernelspec": {
   "display_name": "Python 3 (ipykernel)",
   "language": "python",
   "name": "python3"
  },
  "language_info": {
   "codemirror_mode": {
    "name": "ipython",
    "version": 3
   },
   "file_extension": ".py",
   "mimetype": "text/x-python",
   "name": "python",
   "nbconvert_exporter": "python",
   "pygments_lexer": "ipython3",
   "version": "3.9.7"
  }
 },
 "nbformat": 4,
 "nbformat_minor": 5
}
