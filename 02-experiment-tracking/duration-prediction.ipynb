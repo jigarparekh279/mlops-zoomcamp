{
 "cells": [
  {
   "cell_type": "code",
   "execution_count": 29,
   "id": "b2bd82d7",
   "metadata": {},
   "outputs": [
    {
     "name": "stdout",
     "output_type": "stream",
     "text": [
      "Python 3.10.12\n"
     ]
    }
   ],
   "source": [
    "!python -V"
   ]
  },
  {
   "cell_type": "code",
   "execution_count": 30,
   "id": "41062d8a",
   "metadata": {},
   "outputs": [],
   "source": [
    "import pandas as pd"
   ]
  },
  {
   "cell_type": "code",
   "execution_count": 31,
   "id": "c984c564",
   "metadata": {},
   "outputs": [],
   "source": [
    "import pickle"
   ]
  },
  {
   "cell_type": "code",
   "execution_count": 32,
   "id": "4add538c",
   "metadata": {},
   "outputs": [],
   "source": [
    "import seaborn as sns\n",
    "import matplotlib.pyplot as plt"
   ]
  },
  {
   "cell_type": "code",
   "execution_count": 33,
   "id": "8b135c2b",
   "metadata": {},
   "outputs": [],
   "source": [
    "from sklearn.feature_extraction import DictVectorizer\n",
    "from sklearn.linear_model import LinearRegression\n",
    "from sklearn.linear_model import Lasso\n",
    "from sklearn.linear_model import Ridge\n",
    "\n",
    "from sklearn.metrics import mean_squared_error"
   ]
  },
  {
   "cell_type": "code",
   "execution_count": 34,
   "id": "1464985f",
   "metadata": {},
   "outputs": [
    {
     "data": {
      "text/plain": [
       "<Experiment: artifact_location='/home/jigar/DataTalksClub/mlops-zoomcamp/02-experiment-tracking/mlruns/1', creation_time=1758616733396, experiment_id='1', last_update_time=1758616733396, lifecycle_stage='active', name='nyc-taxi-experiment', tags={}>"
      ]
     },
     "execution_count": 34,
     "metadata": {},
     "output_type": "execute_result"
    }
   ],
   "source": [
    "import mlflow\n",
    "\n",
    "mlflow.set_tracking_uri(\"sqlite:///mlflow.db\")\n",
    "mlflow.set_experiment(\"nyc-taxi-experiment\")"
   ]
  },
  {
   "cell_type": "code",
   "execution_count": 35,
   "id": "f9e6479e",
   "metadata": {},
   "outputs": [],
   "source": [
    "def read_dataframe(filename):\n",
    "    df = pd.read_parquet(filename)\n",
    "\n",
    "    df.lpep_dropoff_datetime = pd.to_datetime(df.lpep_dropoff_datetime)\n",
    "    df.lpep_pickup_datetime = pd.to_datetime(df.lpep_pickup_datetime)\n",
    "\n",
    "    df['duration'] = df.lpep_dropoff_datetime - df.lpep_pickup_datetime\n",
    "    df.duration = df.duration.apply(lambda td: td.total_seconds() / 60)\n",
    "\n",
    "    df = df[(df.duration >= 1) & (df.duration <= 60)]\n",
    "\n",
    "    categorical = ['PULocationID', 'DOLocationID']\n",
    "    df[categorical] = df[categorical].astype(str)\n",
    "\n",
    "    return df"
   ]
  },
  {
   "cell_type": "code",
   "execution_count": 36,
   "id": "8029eba0",
   "metadata": {},
   "outputs": [],
   "source": [
    "df_train = read_dataframe('./data/green_tripdata_2025-01.parquet')\n",
    "df_val = read_dataframe('./data/green_tripdata_2025-02.parquet')"
   ]
  },
  {
   "cell_type": "code",
   "execution_count": 37,
   "id": "f6f2f0eb",
   "metadata": {},
   "outputs": [
    {
     "data": {
      "text/plain": [
       "(46307, 44218)"
      ]
     },
     "execution_count": 37,
     "metadata": {},
     "output_type": "execute_result"
    }
   ],
   "source": [
    "len(df_train), len(df_val)"
   ]
  },
  {
   "cell_type": "code",
   "execution_count": 38,
   "id": "951d51ef",
   "metadata": {},
   "outputs": [],
   "source": [
    "df_train['PU_DO'] = df_train['PULocationID'] + '_' + df_train['DOLocationID']\n",
    "df_val['PU_DO'] = df_val['PULocationID'] + '_' + df_val['DOLocationID']"
   ]
  },
  {
   "cell_type": "code",
   "execution_count": 39,
   "id": "c5cbfc25",
   "metadata": {},
   "outputs": [],
   "source": [
    "categorical = ['PU_DO'] #'PULocationID', 'DOLocationID']\n",
    "numerical = ['trip_distance']\n",
    "\n",
    "dv = DictVectorizer()\n",
    "\n",
    "train_dicts = df_train[categorical + numerical].to_dict(orient='records')\n",
    "X_train = dv.fit_transform(train_dicts)\n",
    "\n",
    "val_dicts = df_val[categorical + numerical].to_dict(orient='records')\n",
    "X_val = dv.transform(val_dicts)"
   ]
  },
  {
   "cell_type": "code",
   "execution_count": 40,
   "id": "1e9fb68b",
   "metadata": {},
   "outputs": [],
   "source": [
    "target = 'duration'\n",
    "y_train = df_train[target].values\n",
    "y_val = df_val[target].values"
   ]
  },
  {
   "cell_type": "code",
   "execution_count": null,
   "id": "429e2394",
   "metadata": {},
   "outputs": [
    {
     "name": "stderr",
     "output_type": "stream",
     "text": [
      "2025/09/23 10:57:56 INFO mlflow.utils.autologging_utils: Created MLflow autologging run with ID 'e641f2e3f9d14ac99ba81a08d4cd6977', which will track hyperparameters, performance metrics, model artifacts, and lineage information for the current sklearn workflow\n"
     ]
    },
    {
     "name": "stderr",
     "output_type": "stream",
     "text": [
      "2025/09/23 10:57:57 WARNING mlflow.sklearn: Failed to log training dataset information to MLflow Tracking. Reason: 'numpy.ndarray' object has no attribute 'toarray'\n"
     ]
    },
    {
     "data": {
      "text/plain": [
       "6.098706133427926"
      ]
     },
     "execution_count": 42,
     "metadata": {},
     "output_type": "execute_result"
    }
   ],
   "source": [
    "lr = LinearRegression()\n",
    "lr.fit(X_train, y_train)\n",
    "\n",
    "y_pred = lr.predict(X_val)\n",
    "\n",
    "mean_squared_error(y_val, y_pred, squared=False)"
   ]
  },
  {
   "cell_type": "code",
   "execution_count": 43,
   "id": "22bf6f8b",
   "metadata": {},
   "outputs": [],
   "source": [
    "with open('models/lin_reg.bin', 'wb') as f_out:\n",
    "    pickle.dump(lr, f_out)\n",
    "\n",
    "with open('models/preprocessor.bin', 'wb') as f_out:\n",
    "    pickle.dump(dv, f_out)"
   ]
  },
  {
   "cell_type": "code",
   "execution_count": 44,
   "id": "a716ea2e",
   "metadata": {},
   "outputs": [
    {
     "name": "stderr",
     "output_type": "stream",
     "text": [
      "2025/09/23 10:58:30 WARNING mlflow.sklearn: Failed to log training dataset information to MLflow Tracking. Reason: 'numpy.ndarray' object has no attribute 'toarray'\n"
     ]
    }
   ],
   "source": [
    "from os import name\n",
    "from mlflow.models import infer_signature\n",
    "\n",
    "with mlflow.start_run():\n",
    "\n",
    "    mlflow.set_tag(\"developer\", \"jigar\")\n",
    "\n",
    "    mlflow.log_param(\"train-data-path\", \"./data/green_tripdata_2021-01.csv\")\n",
    "    mlflow.log_param(\"valid-data-path\", \"./data/green_tripdata_2021-02.csv\")\n",
    "\n",
    "    alpha = 0.1\n",
    "    mlflow.log_param(\"alpha\", alpha)\n",
    "    lr = Lasso(alpha)\n",
    "    lr.fit(X_train, y_train)\n",
    "\n",
    "    y_pred = lr.predict(X_val)\n",
    "    rmse = mean_squared_error(y_val, y_pred, squared=False)\n",
    "    mlflow.log_metric(\"rmse\", rmse)"
   ]
  },
  {
   "cell_type": "code",
   "execution_count": 21,
   "id": "5f56e97b",
   "metadata": {},
   "outputs": [],
   "source": [
    "import xgboost as xgb"
   ]
  },
  {
   "cell_type": "code",
   "execution_count": 23,
   "id": "907dc6a2",
   "metadata": {},
   "outputs": [],
   "source": [
    "from hyperopt import fmin, tpe, hp, STATUS_OK, Trials\n",
    "from hyperopt.pyll import scope"
   ]
  },
  {
   "cell_type": "code",
   "execution_count": 24,
   "id": "091ab328",
   "metadata": {},
   "outputs": [],
   "source": [
    "train = xgb.DMatrix(X_train, label=y_train)\n",
    "valid = xgb.DMatrix(X_val, label=y_val)"
   ]
  },
  {
   "cell_type": "code",
   "execution_count": null,
   "id": "c2d84b26",
   "metadata": {},
   "outputs": [],
   "source": [
    "def objective(params):\n",
    "    with mlflow.start_run():\n",
    "        mlflow.set_tag(\"developer\", \"jigar\")    # e.g.\n",
    "        mlflow.set_tag(\"model\", \"xgboost\")\n",
    "        mlflow.log_params(params)\n",
    "        booster = xgb.train(\n",
    "            params=params,\n",
    "            dtrain=train,\n",
    "            num_boost_round=1000,\n",
    "            evals=[(valid, 'validation')],\n",
    "            early_stopping_rounds=50\n",
    "        )\n",
    "        y_pred = booster.predict(valid)\n",
    "        rmse = mean_squared_error(y_val, y_pred, squared=False)\n",
    "        mlflow.log_metric(\"rmse\", rmse)\n",
    "\n",
    "    return {'loss': rmse, 'status': STATUS_OK}"
   ]
  },
  {
   "cell_type": "code",
   "execution_count": null,
   "id": "6b1f77f5",
   "metadata": {},
   "outputs": [],
   "source": [
    "search_space = {\n",
    "    'max_depth': scope.int(hp.quniform('max_depth', 4, 100, 1)),\n",
    "    'learning_rate': hp.loguniform('learning_rate', -3, 0),\n",
    "    'reg_alpha': hp.loguniform('reg_alpha', -5, -1),\n",
    "    'reg_lambda': hp.loguniform('reg_lambda', -6, -1),\n",
    "    'min_child_weight': hp.loguniform('min_child_weight', -1, 3),\n",
    "    'objective': 'reg:linear',\n",
    "    'seed': 42\n",
    "}\n",
    "\n",
    "mlflow.xgboost.autolog()\n",
    "\n",
    "best_result = fmin(\n",
    "    fn=objective,\n",
    "    space=search_space,\n",
    "    algo=tpe.suggest,\n",
    "    max_evals=5,#50,\n",
    "    trials=Trials()\n",
    ")"
   ]
  },
  {
   "cell_type": "code",
   "execution_count": 26,
   "id": "fc4d5283",
   "metadata": {},
   "outputs": [],
   "source": [
    "mlflow.xgboost.autolog(disable=True)"
   ]
  },
  {
   "cell_type": "code",
   "execution_count": null,
   "id": "0e8cd729",
   "metadata": {},
   "outputs": [
    {
     "name": "stderr",
     "output_type": "stream",
     "text": [
      "/home/ubuntu/software/anaconda/anaconda3/envs/mlops-zoomcamp-env/lib/python3.13/site-packages/xgboost/callback.py:386: UserWarning: [16:23:03] WARNING: /workspace/src/objective/regression_obj.cu:245: reg:linear is now deprecated in favor of reg:squarederror.\n",
      "  self.starting_round = model.num_boosted_rounds()\n"
     ]
    },
    {
     "name": "stdout",
     "output_type": "stream",
     "text": [
      "[0]\tvalidation-rmse:8.56745\n",
      "[1]\tvalidation-rmse:8.10033\n",
      "[2]\tvalidation-rmse:7.69739\n",
      "[3]\tvalidation-rmse:7.35105\n",
      "[4]\tvalidation-rmse:7.05239\n",
      "[5]\tvalidation-rmse:6.80020\n",
      "[6]\tvalidation-rmse:6.58162\n",
      "[7]\tvalidation-rmse:6.39726\n",
      "[8]\tvalidation-rmse:6.24197\n",
      "[9]\tvalidation-rmse:6.11059\n",
      "[10]\tvalidation-rmse:6.00193\n",
      "[11]\tvalidation-rmse:5.90700\n",
      "[12]\tvalidation-rmse:5.82752\n",
      "[13]\tvalidation-rmse:5.76123\n",
      "[14]\tvalidation-rmse:5.70306\n",
      "[15]\tvalidation-rmse:5.65560\n",
      "[16]\tvalidation-rmse:5.61619\n",
      "[17]\tvalidation-rmse:5.58065\n",
      "[18]\tvalidation-rmse:5.55157\n",
      "[19]\tvalidation-rmse:5.52734\n",
      "[20]\tvalidation-rmse:5.50858\n",
      "[21]\tvalidation-rmse:5.48872\n",
      "[22]\tvalidation-rmse:5.47379\n",
      "[23]\tvalidation-rmse:5.45957\n",
      "[24]\tvalidation-rmse:5.44705\n",
      "[25]\tvalidation-rmse:5.43706\n",
      "[26]\tvalidation-rmse:5.42713\n",
      "[27]\tvalidation-rmse:5.41891\n",
      "[28]\tvalidation-rmse:5.41283\n",
      "[29]\tvalidation-rmse:5.40819\n",
      "[30]\tvalidation-rmse:5.40244\n",
      "[31]\tvalidation-rmse:5.39854\n",
      "[32]\tvalidation-rmse:5.39446\n",
      "[33]\tvalidation-rmse:5.39004\n",
      "[34]\tvalidation-rmse:5.38685\n",
      "[35]\tvalidation-rmse:5.38264\n",
      "[36]\tvalidation-rmse:5.37940\n",
      "[37]\tvalidation-rmse:5.37680\n",
      "[38]\tvalidation-rmse:5.37557\n",
      "[39]\tvalidation-rmse:5.37446\n",
      "[40]\tvalidation-rmse:5.37398\n",
      "[41]\tvalidation-rmse:5.37311\n",
      "[42]\tvalidation-rmse:5.37168\n",
      "[43]\tvalidation-rmse:5.37012\n",
      "[44]\tvalidation-rmse:5.36946\n",
      "[45]\tvalidation-rmse:5.36916\n",
      "[46]\tvalidation-rmse:5.36932\n",
      "[47]\tvalidation-rmse:5.36798\n",
      "[48]\tvalidation-rmse:5.36776\n",
      "[49]\tvalidation-rmse:5.36748\n",
      "[50]\tvalidation-rmse:5.36663\n",
      "[51]\tvalidation-rmse:5.36598\n",
      "[52]\tvalidation-rmse:5.36548\n",
      "[53]\tvalidation-rmse:5.36492\n",
      "[54]\tvalidation-rmse:5.36441\n",
      "[55]\tvalidation-rmse:5.36382\n",
      "[56]\tvalidation-rmse:5.36376\n",
      "[57]\tvalidation-rmse:5.36340\n",
      "[58]\tvalidation-rmse:5.36286\n",
      "[59]\tvalidation-rmse:5.36263\n",
      "[60]\tvalidation-rmse:5.36230\n",
      "[61]\tvalidation-rmse:5.36186\n",
      "[62]\tvalidation-rmse:5.36140\n",
      "[63]\tvalidation-rmse:5.36125\n",
      "[64]\tvalidation-rmse:5.36083\n",
      "[65]\tvalidation-rmse:5.36025\n",
      "[66]\tvalidation-rmse:5.35988\n",
      "[67]\tvalidation-rmse:5.35907\n",
      "[68]\tvalidation-rmse:5.35877\n",
      "[69]\tvalidation-rmse:5.35822\n",
      "[70]\tvalidation-rmse:5.35791\n",
      "[71]\tvalidation-rmse:5.35767\n",
      "[72]\tvalidation-rmse:5.35709\n",
      "[73]\tvalidation-rmse:5.35690\n",
      "[74]\tvalidation-rmse:5.35643\n",
      "[75]\tvalidation-rmse:5.35613\n",
      "[76]\tvalidation-rmse:5.35583\n",
      "[77]\tvalidation-rmse:5.35571\n",
      "[78]\tvalidation-rmse:5.35526\n",
      "[79]\tvalidation-rmse:5.35491\n",
      "[80]\tvalidation-rmse:5.35478\n",
      "[81]\tvalidation-rmse:5.35422\n",
      "[82]\tvalidation-rmse:5.35377\n",
      "[83]\tvalidation-rmse:5.35366\n",
      "[84]\tvalidation-rmse:5.35348\n",
      "[85]\tvalidation-rmse:5.35338\n",
      "[86]\tvalidation-rmse:5.35268\n",
      "[87]\tvalidation-rmse:5.35238\n",
      "[88]\tvalidation-rmse:5.35222\n",
      "[89]\tvalidation-rmse:5.35207\n",
      "[90]\tvalidation-rmse:5.35222\n",
      "[91]\tvalidation-rmse:5.35211\n",
      "[92]\tvalidation-rmse:5.35171\n",
      "[93]\tvalidation-rmse:5.35159\n",
      "[94]\tvalidation-rmse:5.35151\n",
      "[95]\tvalidation-rmse:5.35146\n",
      "[96]\tvalidation-rmse:5.35141\n",
      "[97]\tvalidation-rmse:5.35069\n",
      "[98]\tvalidation-rmse:5.35048\n",
      "[99]\tvalidation-rmse:5.35015\n",
      "[100]\tvalidation-rmse:5.35015\n",
      "[101]\tvalidation-rmse:5.34987\n",
      "[102]\tvalidation-rmse:5.34995\n",
      "[103]\tvalidation-rmse:5.34937\n",
      "[104]\tvalidation-rmse:5.34942\n",
      "[105]\tvalidation-rmse:5.34926\n",
      "[106]\tvalidation-rmse:5.34906\n",
      "[107]\tvalidation-rmse:5.34844\n",
      "[108]\tvalidation-rmse:5.34842\n",
      "[109]\tvalidation-rmse:5.34862\n",
      "[110]\tvalidation-rmse:5.34826\n",
      "[111]\tvalidation-rmse:5.34813\n",
      "[112]\tvalidation-rmse:5.34771\n",
      "[113]\tvalidation-rmse:5.34770\n",
      "[114]\tvalidation-rmse:5.34757\n",
      "[115]\tvalidation-rmse:5.34715\n",
      "[116]\tvalidation-rmse:5.34679\n",
      "[117]\tvalidation-rmse:5.34671\n",
      "[118]\tvalidation-rmse:5.34628\n",
      "[119]\tvalidation-rmse:5.34616\n",
      "[120]\tvalidation-rmse:5.34638\n",
      "[121]\tvalidation-rmse:5.34591\n",
      "[122]\tvalidation-rmse:5.34571\n",
      "[123]\tvalidation-rmse:5.34564\n",
      "[124]\tvalidation-rmse:5.34567\n",
      "[125]\tvalidation-rmse:5.34552\n",
      "[126]\tvalidation-rmse:5.34560\n",
      "[127]\tvalidation-rmse:5.34526\n",
      "[128]\tvalidation-rmse:5.34533\n",
      "[129]\tvalidation-rmse:5.34547\n",
      "[130]\tvalidation-rmse:5.34589\n",
      "[131]\tvalidation-rmse:5.34586\n",
      "[132]\tvalidation-rmse:5.34585\n",
      "[133]\tvalidation-rmse:5.34582\n",
      "[134]\tvalidation-rmse:5.34554\n",
      "[135]\tvalidation-rmse:5.34515\n",
      "[136]\tvalidation-rmse:5.34497\n",
      "[137]\tvalidation-rmse:5.34456\n",
      "[138]\tvalidation-rmse:5.34441\n",
      "[139]\tvalidation-rmse:5.34410\n",
      "[140]\tvalidation-rmse:5.34386\n",
      "[141]\tvalidation-rmse:5.34372\n",
      "[142]\tvalidation-rmse:5.34336\n",
      "[143]\tvalidation-rmse:5.34309\n",
      "[144]\tvalidation-rmse:5.34328\n",
      "[145]\tvalidation-rmse:5.34308\n",
      "[146]\tvalidation-rmse:5.34319\n",
      "[147]\tvalidation-rmse:5.34327\n",
      "[148]\tvalidation-rmse:5.34311\n",
      "[149]\tvalidation-rmse:5.34286\n",
      "[150]\tvalidation-rmse:5.34270\n",
      "[151]\tvalidation-rmse:5.34285\n",
      "[152]\tvalidation-rmse:5.34294\n",
      "[153]\tvalidation-rmse:5.34280\n",
      "[154]\tvalidation-rmse:5.34289\n",
      "[155]\tvalidation-rmse:5.34278\n",
      "[156]\tvalidation-rmse:5.34263\n",
      "[157]\tvalidation-rmse:5.34208\n",
      "[158]\tvalidation-rmse:5.34212\n",
      "[159]\tvalidation-rmse:5.34266\n",
      "[160]\tvalidation-rmse:5.34248\n",
      "[161]\tvalidation-rmse:5.34240\n",
      "[162]\tvalidation-rmse:5.34237\n",
      "[163]\tvalidation-rmse:5.34236\n",
      "[164]\tvalidation-rmse:5.34202\n",
      "[165]\tvalidation-rmse:5.34197\n",
      "[166]\tvalidation-rmse:5.34191\n",
      "[167]\tvalidation-rmse:5.34147\n",
      "[168]\tvalidation-rmse:5.34132\n",
      "[169]\tvalidation-rmse:5.34079\n",
      "[170]\tvalidation-rmse:5.34038\n",
      "[171]\tvalidation-rmse:5.34056\n",
      "[172]\tvalidation-rmse:5.34046\n",
      "[173]\tvalidation-rmse:5.34030\n",
      "[174]\tvalidation-rmse:5.34022\n",
      "[175]\tvalidation-rmse:5.34033\n",
      "[176]\tvalidation-rmse:5.34043\n",
      "[177]\tvalidation-rmse:5.34047\n",
      "[178]\tvalidation-rmse:5.34036\n",
      "[179]\tvalidation-rmse:5.34031\n",
      "[180]\tvalidation-rmse:5.34035\n",
      "[181]\tvalidation-rmse:5.34027\n",
      "[182]\tvalidation-rmse:5.34003\n",
      "[183]\tvalidation-rmse:5.34007\n",
      "[184]\tvalidation-rmse:5.34005\n",
      "[185]\tvalidation-rmse:5.34004\n",
      "[186]\tvalidation-rmse:5.34000\n",
      "[187]\tvalidation-rmse:5.34006\n",
      "[188]\tvalidation-rmse:5.33954\n",
      "[189]\tvalidation-rmse:5.33955\n",
      "[190]\tvalidation-rmse:5.33951\n",
      "[191]\tvalidation-rmse:5.33999\n",
      "[192]\tvalidation-rmse:5.33981\n",
      "[193]\tvalidation-rmse:5.33976\n",
      "[194]\tvalidation-rmse:5.33882\n",
      "[195]\tvalidation-rmse:5.33889\n",
      "[196]\tvalidation-rmse:5.33881\n",
      "[197]\tvalidation-rmse:5.33905\n",
      "[198]\tvalidation-rmse:5.33890\n",
      "[199]\tvalidation-rmse:5.33890\n",
      "[200]\tvalidation-rmse:5.33859\n",
      "[201]\tvalidation-rmse:5.33850\n",
      "[202]\tvalidation-rmse:5.33840\n",
      "[203]\tvalidation-rmse:5.33835\n",
      "[204]\tvalidation-rmse:5.33823\n",
      "[205]\tvalidation-rmse:5.33811\n",
      "[206]\tvalidation-rmse:5.33777\n",
      "[207]\tvalidation-rmse:5.33786\n",
      "[208]\tvalidation-rmse:5.33761\n",
      "[209]\tvalidation-rmse:5.33761\n",
      "[210]\tvalidation-rmse:5.33793\n",
      "[211]\tvalidation-rmse:5.33798\n",
      "[212]\tvalidation-rmse:5.33743\n",
      "[213]\tvalidation-rmse:5.33743\n",
      "[214]\tvalidation-rmse:5.33731\n",
      "[215]\tvalidation-rmse:5.33718\n",
      "[216]\tvalidation-rmse:5.33719\n",
      "[217]\tvalidation-rmse:5.33668\n",
      "[218]\tvalidation-rmse:5.33681\n",
      "[219]\tvalidation-rmse:5.33712\n",
      "[220]\tvalidation-rmse:5.33734\n",
      "[221]\tvalidation-rmse:5.33729\n",
      "[222]\tvalidation-rmse:5.33712\n",
      "[223]\tvalidation-rmse:5.33679\n",
      "[224]\tvalidation-rmse:5.33697\n",
      "[225]\tvalidation-rmse:5.33714\n",
      "[226]\tvalidation-rmse:5.33713\n",
      "[227]\tvalidation-rmse:5.33691\n",
      "[228]\tvalidation-rmse:5.33746\n",
      "[229]\tvalidation-rmse:5.33729\n",
      "[230]\tvalidation-rmse:5.33729\n",
      "[231]\tvalidation-rmse:5.33753\n",
      "[232]\tvalidation-rmse:5.33734\n",
      "[233]\tvalidation-rmse:5.33738\n",
      "[234]\tvalidation-rmse:5.33728\n",
      "[235]\tvalidation-rmse:5.33677\n",
      "[236]\tvalidation-rmse:5.33669\n",
      "[237]\tvalidation-rmse:5.33656\n",
      "[238]\tvalidation-rmse:5.33640\n",
      "[239]\tvalidation-rmse:5.33635\n",
      "[240]\tvalidation-rmse:5.33635\n",
      "[241]\tvalidation-rmse:5.33629\n",
      "[242]\tvalidation-rmse:5.33638\n",
      "[243]\tvalidation-rmse:5.33624\n",
      "[244]\tvalidation-rmse:5.33618\n",
      "[245]\tvalidation-rmse:5.33614\n",
      "[246]\tvalidation-rmse:5.33620\n",
      "[247]\tvalidation-rmse:5.33627\n",
      "[248]\tvalidation-rmse:5.33648\n",
      "[249]\tvalidation-rmse:5.33637\n",
      "[250]\tvalidation-rmse:5.33636\n",
      "[251]\tvalidation-rmse:5.33654\n",
      "[252]\tvalidation-rmse:5.33618\n",
      "[253]\tvalidation-rmse:5.33602\n",
      "[254]\tvalidation-rmse:5.33590\n",
      "[255]\tvalidation-rmse:5.33598\n",
      "[256]\tvalidation-rmse:5.33599\n",
      "[257]\tvalidation-rmse:5.33629\n",
      "[258]\tvalidation-rmse:5.33624\n",
      "[259]\tvalidation-rmse:5.33612\n",
      "[260]\tvalidation-rmse:5.33578\n",
      "[261]\tvalidation-rmse:5.33573\n",
      "[262]\tvalidation-rmse:5.33566\n",
      "[263]\tvalidation-rmse:5.33545\n",
      "[264]\tvalidation-rmse:5.33544\n",
      "[265]\tvalidation-rmse:5.33512\n",
      "[266]\tvalidation-rmse:5.33510\n",
      "[267]\tvalidation-rmse:5.33555\n",
      "[268]\tvalidation-rmse:5.33545\n",
      "[269]\tvalidation-rmse:5.33556\n",
      "[270]\tvalidation-rmse:5.33573\n",
      "[271]\tvalidation-rmse:5.33591\n",
      "[272]\tvalidation-rmse:5.33584\n",
      "[273]\tvalidation-rmse:5.33583\n",
      "[274]\tvalidation-rmse:5.33602\n",
      "[275]\tvalidation-rmse:5.33597\n",
      "[276]\tvalidation-rmse:5.33591\n",
      "[277]\tvalidation-rmse:5.33575\n",
      "[278]\tvalidation-rmse:5.33568\n",
      "[279]\tvalidation-rmse:5.33572\n",
      "[280]\tvalidation-rmse:5.33570\n",
      "[281]\tvalidation-rmse:5.33554\n",
      "[282]\tvalidation-rmse:5.33537\n",
      "[283]\tvalidation-rmse:5.33531\n",
      "[284]\tvalidation-rmse:5.33536\n",
      "[285]\tvalidation-rmse:5.33531\n",
      "[286]\tvalidation-rmse:5.33541\n",
      "[287]\tvalidation-rmse:5.33539\n",
      "[288]\tvalidation-rmse:5.33537\n",
      "[289]\tvalidation-rmse:5.33528\n",
      "[290]\tvalidation-rmse:5.33539\n",
      "[291]\tvalidation-rmse:5.33483\n",
      "[292]\tvalidation-rmse:5.33475\n",
      "[293]\tvalidation-rmse:5.33480\n",
      "[294]\tvalidation-rmse:5.33458\n",
      "[295]\tvalidation-rmse:5.33477\n",
      "[296]\tvalidation-rmse:5.33462\n",
      "[297]\tvalidation-rmse:5.33469\n",
      "[298]\tvalidation-rmse:5.33478\n",
      "[299]\tvalidation-rmse:5.33485\n",
      "[300]\tvalidation-rmse:5.33458\n",
      "[301]\tvalidation-rmse:5.33453\n",
      "[302]\tvalidation-rmse:5.33443\n",
      "[303]\tvalidation-rmse:5.33475\n",
      "[304]\tvalidation-rmse:5.33405\n",
      "[305]\tvalidation-rmse:5.33353\n",
      "[306]\tvalidation-rmse:5.33366\n",
      "[307]\tvalidation-rmse:5.33370\n",
      "[308]\tvalidation-rmse:5.33348\n",
      "[309]\tvalidation-rmse:5.33350\n",
      "[310]\tvalidation-rmse:5.33354\n",
      "[311]\tvalidation-rmse:5.33355\n",
      "[312]\tvalidation-rmse:5.33347\n",
      "[313]\tvalidation-rmse:5.33341\n",
      "[314]\tvalidation-rmse:5.33353\n",
      "[315]\tvalidation-rmse:5.33342\n",
      "[316]\tvalidation-rmse:5.33373\n",
      "[317]\tvalidation-rmse:5.33379\n",
      "[318]\tvalidation-rmse:5.33379\n",
      "[319]\tvalidation-rmse:5.33399\n",
      "[320]\tvalidation-rmse:5.33397\n",
      "[321]\tvalidation-rmse:5.33379\n",
      "[322]\tvalidation-rmse:5.33392\n",
      "[323]\tvalidation-rmse:5.33405\n",
      "[324]\tvalidation-rmse:5.33362\n",
      "[325]\tvalidation-rmse:5.33359\n",
      "[326]\tvalidation-rmse:5.33349\n",
      "[327]\tvalidation-rmse:5.33350\n",
      "[328]\tvalidation-rmse:5.33315\n",
      "[329]\tvalidation-rmse:5.33313\n",
      "[330]\tvalidation-rmse:5.33317\n",
      "[331]\tvalidation-rmse:5.33312\n",
      "[332]\tvalidation-rmse:5.33309\n",
      "[333]\tvalidation-rmse:5.33308\n",
      "[334]\tvalidation-rmse:5.33320\n",
      "[335]\tvalidation-rmse:5.33330\n",
      "[336]\tvalidation-rmse:5.33314\n",
      "[337]\tvalidation-rmse:5.33318\n",
      "[338]\tvalidation-rmse:5.33324\n",
      "[339]\tvalidation-rmse:5.33334\n",
      "[340]\tvalidation-rmse:5.33354\n",
      "[341]\tvalidation-rmse:5.33333\n",
      "[342]\tvalidation-rmse:5.33329\n",
      "[343]\tvalidation-rmse:5.33340\n",
      "[344]\tvalidation-rmse:5.33338\n",
      "[345]\tvalidation-rmse:5.33321\n",
      "[346]\tvalidation-rmse:5.33328\n",
      "[347]\tvalidation-rmse:5.33333\n",
      "[348]\tvalidation-rmse:5.33332\n",
      "[349]\tvalidation-rmse:5.33337\n",
      "[350]\tvalidation-rmse:5.33348\n",
      "[351]\tvalidation-rmse:5.33357\n",
      "[352]\tvalidation-rmse:5.33359\n",
      "[353]\tvalidation-rmse:5.33353\n",
      "[354]\tvalidation-rmse:5.33357\n",
      "[355]\tvalidation-rmse:5.33321\n",
      "[356]\tvalidation-rmse:5.33319\n",
      "[357]\tvalidation-rmse:5.33314\n",
      "[358]\tvalidation-rmse:5.33290\n",
      "[359]\tvalidation-rmse:5.33272\n",
      "[360]\tvalidation-rmse:5.33304\n",
      "[361]\tvalidation-rmse:5.33315\n",
      "[362]\tvalidation-rmse:5.33318\n",
      "[363]\tvalidation-rmse:5.33273\n",
      "[364]\tvalidation-rmse:5.33241\n",
      "[365]\tvalidation-rmse:5.33242\n",
      "[366]\tvalidation-rmse:5.33232\n",
      "[367]\tvalidation-rmse:5.33228\n",
      "[368]\tvalidation-rmse:5.33255\n",
      "[369]\tvalidation-rmse:5.33236\n",
      "[370]\tvalidation-rmse:5.33238\n",
      "[371]\tvalidation-rmse:5.33234\n",
      "[372]\tvalidation-rmse:5.33199\n",
      "[373]\tvalidation-rmse:5.33193\n",
      "[374]\tvalidation-rmse:5.33208\n",
      "[375]\tvalidation-rmse:5.33196\n",
      "[376]\tvalidation-rmse:5.33201\n",
      "[377]\tvalidation-rmse:5.33204\n",
      "[378]\tvalidation-rmse:5.33197\n",
      "[379]\tvalidation-rmse:5.33231\n",
      "[380]\tvalidation-rmse:5.33213\n",
      "[381]\tvalidation-rmse:5.33225\n",
      "[382]\tvalidation-rmse:5.33220\n",
      "[383]\tvalidation-rmse:5.33225\n",
      "[384]\tvalidation-rmse:5.33211\n",
      "[385]\tvalidation-rmse:5.33204\n",
      "[386]\tvalidation-rmse:5.33241\n",
      "[387]\tvalidation-rmse:5.33229\n",
      "[388]\tvalidation-rmse:5.33231\n",
      "[389]\tvalidation-rmse:5.33241\n",
      "[390]\tvalidation-rmse:5.33258\n",
      "[391]\tvalidation-rmse:5.33259\n",
      "[392]\tvalidation-rmse:5.33257\n",
      "[393]\tvalidation-rmse:5.33247\n",
      "[394]\tvalidation-rmse:5.33250\n",
      "[395]\tvalidation-rmse:5.33243\n",
      "[396]\tvalidation-rmse:5.33245\n",
      "[397]\tvalidation-rmse:5.33261\n",
      "[398]\tvalidation-rmse:5.33269\n",
      "[399]\tvalidation-rmse:5.33270\n",
      "[400]\tvalidation-rmse:5.33283\n",
      "[401]\tvalidation-rmse:5.33283\n",
      "[402]\tvalidation-rmse:5.33225\n",
      "[403]\tvalidation-rmse:5.33197\n",
      "[404]\tvalidation-rmse:5.33190\n",
      "[405]\tvalidation-rmse:5.33193\n",
      "[406]\tvalidation-rmse:5.33188\n",
      "[407]\tvalidation-rmse:5.33202\n",
      "[408]\tvalidation-rmse:5.33199\n",
      "[409]\tvalidation-rmse:5.33188\n",
      "[410]\tvalidation-rmse:5.33189\n",
      "[411]\tvalidation-rmse:5.33169\n",
      "[412]\tvalidation-rmse:5.33173\n",
      "[413]\tvalidation-rmse:5.33173\n",
      "[414]\tvalidation-rmse:5.33172\n",
      "[415]\tvalidation-rmse:5.33178\n",
      "[416]\tvalidation-rmse:5.33178\n",
      "[417]\tvalidation-rmse:5.33178\n",
      "[418]\tvalidation-rmse:5.33173\n",
      "[419]\tvalidation-rmse:5.33169\n",
      "[420]\tvalidation-rmse:5.33183\n",
      "[421]\tvalidation-rmse:5.33171\n",
      "[422]\tvalidation-rmse:5.33182\n",
      "[423]\tvalidation-rmse:5.33171\n",
      "[424]\tvalidation-rmse:5.33162\n",
      "[425]\tvalidation-rmse:5.33166\n",
      "[426]\tvalidation-rmse:5.33168\n",
      "[427]\tvalidation-rmse:5.33146\n",
      "[428]\tvalidation-rmse:5.33143\n",
      "[429]\tvalidation-rmse:5.33149\n",
      "[430]\tvalidation-rmse:5.33213\n",
      "[431]\tvalidation-rmse:5.33221\n",
      "[432]\tvalidation-rmse:5.33237\n",
      "[433]\tvalidation-rmse:5.33238\n",
      "[434]\tvalidation-rmse:5.33258\n",
      "[435]\tvalidation-rmse:5.33238\n",
      "[436]\tvalidation-rmse:5.33236\n",
      "[437]\tvalidation-rmse:5.33224\n",
      "[438]\tvalidation-rmse:5.33213\n",
      "[439]\tvalidation-rmse:5.33212\n",
      "[440]\tvalidation-rmse:5.33211\n",
      "[441]\tvalidation-rmse:5.33214\n",
      "[442]\tvalidation-rmse:5.33201\n",
      "[443]\tvalidation-rmse:5.33213\n",
      "[444]\tvalidation-rmse:5.33212\n",
      "[445]\tvalidation-rmse:5.33210\n",
      "[446]\tvalidation-rmse:5.33216\n",
      "[447]\tvalidation-rmse:5.33209\n",
      "[448]\tvalidation-rmse:5.33211\n",
      "[449]\tvalidation-rmse:5.33234\n",
      "[450]\tvalidation-rmse:5.33231\n",
      "[451]\tvalidation-rmse:5.33245\n",
      "[452]\tvalidation-rmse:5.33252\n",
      "[453]\tvalidation-rmse:5.33237\n",
      "[454]\tvalidation-rmse:5.33225\n",
      "[455]\tvalidation-rmse:5.33230\n",
      "[456]\tvalidation-rmse:5.33250\n",
      "[457]\tvalidation-rmse:5.33241\n",
      "[458]\tvalidation-rmse:5.33236\n",
      "[459]\tvalidation-rmse:5.33241\n",
      "[460]\tvalidation-rmse:5.33240\n",
      "[461]\tvalidation-rmse:5.33263\n",
      "[462]\tvalidation-rmse:5.33293\n",
      "[463]\tvalidation-rmse:5.33315\n",
      "[464]\tvalidation-rmse:5.33312\n",
      "[465]\tvalidation-rmse:5.33279\n",
      "[466]\tvalidation-rmse:5.33290\n",
      "[467]\tvalidation-rmse:5.33316\n",
      "[468]\tvalidation-rmse:5.33325\n",
      "[469]\tvalidation-rmse:5.33322\n",
      "[470]\tvalidation-rmse:5.33338\n",
      "[471]\tvalidation-rmse:5.33314\n",
      "[472]\tvalidation-rmse:5.33317\n",
      "[473]\tvalidation-rmse:5.33329\n",
      "[474]\tvalidation-rmse:5.33330\n",
      "[475]\tvalidation-rmse:5.33336\n",
      "[476]\tvalidation-rmse:5.33336\n",
      "[477]\tvalidation-rmse:5.33326\n",
      "[478]\tvalidation-rmse:5.33334\n"
     ]
    },
    {
     "name": "stderr",
     "output_type": "stream",
     "text": [
      "2025/09/19 16:23:22 WARNING mlflow.models.model: `artifact_path` is deprecated. Please use `name` instead.\n",
      "2025/09/19 16:23:22 WARNING mlflow.utils.autologging_utils: MLflow autologging encountered a warning: \"/home/ubuntu/software/anaconda/anaconda3/envs/mlops-zoomcamp-env/lib/python3.13/site-packages/mlflow/xgboost/__init__.py:169: UserWarning: [16:23:22] WARNING: /workspace/src/c_api/c_api.cc:1427: Saving model in the UBJSON format as default.  You can use file extension: `json`, `ubj` or `deprecated` to choose between formats.\"\n"
     ]
    }
   ],
   "source": [
    "mlflow.xgboost.autolog()\n",
    "\n",
    "# mlflow.autolog(log_models=True, log_input_examples=True, log_model_signatures=True)\n",
    "\n",
    "with mlflow.start_run(run_name=\"xgb-classifier\"):\n",
    "\n",
    "    train = xgb.DMatrix(X_train, label=y_train)\n",
    "    valid = xgb.DMatrix(X_val, label=y_val)\n",
    "\n",
    "    best_params = {\n",
    "        'learning_rate': 0.09585355369315604,\n",
    "        'max_depth': 30,\n",
    "        'min_child_weight': 1.060597050922164,\n",
    "        'objective': 'reg:linear',\n",
    "        'reg_alpha': 0.018060244040060163,\n",
    "        'reg_lambda': 0.011658731377413597,\n",
    "        'seed': 42\n",
    "    }\n",
    "\n",
    "    booster = xgb.train(\n",
    "        params=best_params,\n",
    "        dtrain=train,\n",
    "        num_boost_round=1000,\n",
    "        evals=[(valid, 'validation')],\n",
    "        early_stopping_rounds=50\n",
    "    )\n",
    "\n",
    "    y_pred = booster.predict(valid)\n",
    "    rmse = mean_squared_error(y_val, y_pred, squared=False)\n",
    "    mlflow.log_metric(\"rmse\", rmse)"
   ]
  },
  {
   "cell_type": "code",
   "execution_count": 54,
   "id": "87614b82",
   "metadata": {},
   "outputs": [
    {
     "name": "stderr",
     "output_type": "stream",
     "text": [
      "2025/09/23 11:06:00 INFO mlflow.tracking.fluent: Autologging successfully enabled for statsmodels.\n"
     ]
    },
    {
     "name": "stderr",
     "output_type": "stream",
     "text": [
      "2025/09/23 11:06:00 INFO mlflow.tracking.fluent: Autologging successfully enabled for sklearn.\n"
     ]
    },
    {
     "name": "stdout",
     "output_type": "stream",
     "text": [
      "Running GradientBoostingRegressor\n"
     ]
    },
    {
     "name": "stderr",
     "output_type": "stream",
     "text": [
      "2025/09/23 11:06:01 WARNING mlflow.sklearn: Failed to log training dataset information to MLflow Tracking. Reason: 'numpy.ndarray' object has no attribute 'toarray'\n"
     ]
    },
    {
     "name": "stdout",
     "output_type": "stream",
     "text": [
      "Running ExtraTreesRegressor\n"
     ]
    },
    {
     "name": "stderr",
     "output_type": "stream",
     "text": [
      "2025/09/23 11:06:13 WARNING mlflow.sklearn: Failed to log training dataset information to MLflow Tracking. Reason: 'numpy.ndarray' object has no attribute 'toarray'\n"
     ]
    },
    {
     "name": "stdout",
     "output_type": "stream",
     "text": [
      "Running LinearSVR\n"
     ]
    },
    {
     "name": "stderr",
     "output_type": "stream",
     "text": [
      "2025/09/23 11:15:29 WARNING mlflow.sklearn: Failed to log training dataset information to MLflow Tracking. Reason: 'numpy.ndarray' object has no attribute 'toarray'\n",
      "/home/jigar/dataScienceEnv/lib/python3.10/site-packages/sklearn/svm/_classes.py:32: FutureWarning: The default value of `dual` will change from `True` to `'auto'` in 1.5. Set the value of `dual` explicitly to suppress the warning.\n",
      "  warnings.warn(\n",
      "/home/jigar/dataScienceEnv/lib/python3.10/site-packages/sklearn/svm/_base.py:1242: ConvergenceWarning: Liblinear failed to converge, increase the number of iterations.\n",
      "  warnings.warn(\n"
     ]
    }
   ],
   "source": [
    "from sklearn.ensemble import RandomForestRegressor, GradientBoostingRegressor, ExtraTreesRegressor\n",
    "from sklearn.svm import LinearSVR\n",
    "\n",
    "# mlflow.sklearn.autolog()\n",
    "mlflow.autolog(log_models=True, log_input_examples=True, log_model_signatures=True)\n",
    "\n",
    "for model_class in (RandomForestRegressor, GradientBoostingRegressor, ExtraTreesRegressor, LinearSVR):\n",
    "    print(f\"Running {model_class.__name__}\")\n",
    "\n",
    "    with mlflow.start_run():\n",
    "\n",
    "        mlflow.log_artifact(\"models/preprocessor.bin\", artifact_path=\"preprocessor\")\n",
    "\n",
    "        mlmodel = model_class()\n",
    "        mlmodel.fit(X_train, y_train)\n",
    "\n",
    "        y_pred = mlmodel.predict(X_val)\n",
    "        rmse = mean_squared_error(y_val, y_pred, squared=False)\n",
    "        mlflow.log_metric(\"rmse\", rmse)\n"
   ]
  },
  {
   "cell_type": "markdown",
   "id": "58cc3074",
   "metadata": {},
   "source": [
    "### Model + Preprocessor"
   ]
  },
  {
   "cell_type": "code",
   "execution_count": null,
   "id": "a5b6f14a",
   "metadata": {},
   "outputs": [],
   "source": [
    "import mlflow\n",
    "import mlflow.sklearn\n",
    "from sklearn.preprocessing import StandardScaler\n",
    "from sklearn.datasets import load_iris\n",
    "from sklearn.model_selection import train_test_split\n",
    "\n",
    "# Load data\n",
    "X, y = load_iris(return_X_y=True, as_frame=True)\n",
    "X_train, X_test, y_train, y_test = train_test_split(X, y, random_state=42)\n",
    "\n",
    "# Fit preprocessor\n",
    "scaler = StandardScaler()\n",
    "scaler.fit(X_train)\n",
    "\n",
    "# Log preprocessor\n",
    "with mlflow.start_run(run_name=\"preprocessor-run\") as run:\n",
    "    mlflow.sklearn.log_model(scaler, \"scaler\")\n",
    "    preprocessor_run_id = run.info.run_id\n",
    "    print(\"Logged scaler in run:\", preprocessor_run_id)"
   ]
  },
  {
   "cell_type": "code",
   "execution_count": null,
   "id": "da6f3023",
   "metadata": {},
   "outputs": [],
   "source": [
    "from sklearn.ensemble import RandomForestClassifier\n",
    "from sklearn.metrics import accuracy_score\n",
    "\n",
    "# Apply preprocessing manually\n",
    "X_train_scaled = scaler.transform(X_train)\n",
    "X_test_scaled = scaler.transform(X_test)\n",
    "\n",
    "# Train model\n",
    "clf = RandomForestClassifier(n_estimators=100, random_state=42)\n",
    "clf.fit(X_train_scaled, y_train)\n",
    "\n",
    "# Log model\n",
    "with mlflow.start_run(run_name=\"model-run\") as run:\n",
    "    mlflow.sklearn.log_model(clf, name=\"rf_model\")\n",
    "    mlflow.log_metric(\"accuracy\", accuracy_score(y_test, clf.predict(X_test_scaled)))\n",
    "    model_run_id = run.info.run_id\n",
    "    print(\"Logged model in run:\", model_run_id)"
   ]
  },
  {
   "cell_type": "code",
   "execution_count": null,
   "id": "4b2339e4",
   "metadata": {},
   "outputs": [],
   "source": [
    "from mlflow.sklearn import load_model\n",
    "\n",
    "# URIs to logged artifacts\n",
    "scaler_uri = f\"runs:/{preprocessor_run_id}/scaler\"\n",
    "model_uri = f\"runs:/{model_run_id}/rf_model\"\n",
    "\n",
    "# Load both\n",
    "loaded_scaler = load_model(scaler_uri)\n",
    "loaded_model = load_model(model_uri)\n",
    "\n",
    "# Use for inference\n",
    "X_test_scaled = loaded_scaler.transform(X_test)\n",
    "preds = loaded_model.predict(X_test_scaled)\n",
    "\n",
    "print(\"Loaded model accuracy:\", accuracy_score(y_test, preds))"
   ]
  },
  {
   "cell_type": "markdown",
   "id": "dee64636",
   "metadata": {},
   "source": [
    "### ML Exp using mlflow client"
   ]
  },
  {
   "cell_type": "code",
   "execution_count": null,
   "id": "7d45325b",
   "metadata": {},
   "outputs": [],
   "source": [
    "from mlflow.tracking import MlflowClient\n",
    "\n",
    "model_name = \"nyc-taxi-regressor\"\n",
    "MLFLOW_TRACKING_URI = \"sqlite:///mlflow.db\"\n",
    "client = MlflowClient(tracking_uri=MLFLOW_TRACKING_URI)"
   ]
  },
  {
   "cell_type": "code",
   "execution_count": 56,
   "metadata": {},
   "outputs": [
    {
     "data": {
      "text/plain": [
       "'2'"
      ]
     },
     "execution_count": 56,
     "metadata": {},
     "output_type": "execute_result"
    }
   ],
   "source": [
    "client.create_experiment(name=\"my_new_exp\")"
   ]
  },
  {
   "cell_type": "code",
   "execution_count": 61,
   "metadata": {},
   "outputs": [],
   "source": [
    "from mlflow.entities import ViewType\n",
    "\n",
    "runs = client.search_runs(\n",
    "    experiment_ids=\"1\",\n",
    "    filter_string=\"metrics.rmse < 6.0\",\n",
    "    run_view_type=ViewType.ACTIVE_ONLY,\n",
    "    max_results=5,\n",
    "    order_by=[\"metrics.rmse ASC\"]\n",
    ")"
   ]
  },
  {
   "cell_type": "code",
   "execution_count": 62,
   "metadata": {},
   "outputs": [
    {
     "name": "stdout",
     "output_type": "stream",
     "text": [
      "run id: ca7714f02d614885972dcbafe6fcdca4, rmse: 5.6228\n",
      "run id: 2d111ef190434811ae9cb168056a717d, rmse: 5.6383\n",
      "run id: f933c26b98914d81a9ec2b0f9bf4551e, rmse: 5.8406\n"
     ]
    }
   ],
   "source": [
    "for run in runs:\n",
    "    print(f\"run id: {run.info.run_id}, rmse: {run.data.metrics['rmse']:.4f}\")"
   ]
  },
  {
   "cell_type": "code",
   "execution_count": null,
   "id": "98e8482e",
   "metadata": {},
   "outputs": [],
   "source": [
    "import mlflow\n",
    "\n",
    "mlflow.set_tracking_uri(MLFLOW_TRACKING_URI)"
   ]
  },
  {
   "cell_type": "code",
   "execution_count": 65,
   "metadata": {},
   "outputs": [
    {
     "name": "stderr",
     "output_type": "stream",
     "text": [
      "Registered model 'nyc-taxi-regressor' already exists. Creating a new version of this model...\n",
      "Created version '4' of model 'nyc-taxi-regressor'.\n"
     ]
    },
    {
     "data": {
      "text/plain": [
       "<ModelVersion: aliases=[], creation_timestamp=1758620078905, current_stage='None', description=None, last_updated_timestamp=1758620078905, name='nyc-taxi-regressor', run_id='f933c26b98914d81a9ec2b0f9bf4551e', run_link=None, source='/home/jigar/DataTalksClub/mlops-zoomcamp/02-experiment-tracking/mlruns/1/f933c26b98914d81a9ec2b0f9bf4551e/artifacts/model', status='READY', status_message=None, tags={}, user_id=None, version=4>"
      ]
     },
     "execution_count": 65,
     "metadata": {},
     "output_type": "execute_result"
    }
   ],
   "source": [
    "run_id = \"f933c26b98914d81a9ec2b0f9bf4551e\"\n",
    "model_uri = f\"runs:/{run_id}/model\"\n",
    "mlflow.register_model(model_uri=model_uri, name=\"nyc-taxi-regressor\")"
   ]
  },
  {
   "cell_type": "code",
   "execution_count": 69,
   "metadata": {},
   "outputs": [
    {
     "name": "stderr",
     "output_type": "stream",
     "text": [
      "/tmp/ipykernel_2282324/2438216786.py:1: FutureWarning: ``mlflow.tracking.client.MlflowClient.get_latest_versions`` is deprecated since 2.9.0. Model registry stages will be removed in a future major release. To learn more about the deprecation of model registry stages, see our migration guide here: https://mlflow.org/docs/latest/model-registry.html#migrating-from-stages\n",
      "  client.get_latest_versions(name=\"nyc-taxi-regressor\")\n"
     ]
    },
    {
     "data": {
      "text/plain": [
       "[<ModelVersion: aliases=[], creation_timestamp=1758620078905, current_stage='None', description=None, last_updated_timestamp=1758620078905, name='nyc-taxi-regressor', run_id='f933c26b98914d81a9ec2b0f9bf4551e', run_link=None, source='/home/jigar/DataTalksClub/mlops-zoomcamp/02-experiment-tracking/mlruns/1/f933c26b98914d81a9ec2b0f9bf4551e/artifacts/model', status='READY', status_message=None, tags={}, user_id=None, version=4>]"
      ]
     },
     "execution_count": 69,
     "metadata": {},
     "output_type": "execute_result"
    }
   ],
   "source": [
    "client.get_latest_versions(name=\"nyc-taxi-regressor\")"
   ]
  },
  {
   "cell_type": "code",
   "execution_count": null,
   "id": "1590a58b",
   "metadata": {},
   "outputs": [],
   "source": [
    "# Set tag and alias\n",
    "client.set_registered_model_alias(name=model_name, alias=\"hopeful\", version=4)\n",
    "client.set_model_version_tag(name=model_name, key=\"model\", value=\"etr\", version=4)"
   ]
  },
  {
   "cell_type": "code",
   "execution_count": null,
   "id": "416a8d72",
   "metadata": {},
   "outputs": [
    {
     "name": "stderr",
     "output_type": "stream",
     "text": [
      "/tmp/ipykernel_2282324/3826602534.py:2: FutureWarning: ``mlflow.tracking.client.MlflowClient.transition_model_version_stage`` is deprecated since 2.9.0. Model registry stages will be removed in a future major release. To learn more about the deprecation of model registry stages, see our migration guide here: https://mlflow.org/docs/latest/model-registry.html#migrating-from-stages\n",
      "  client.transition_model_version_stage(name=\"nyc-taxi-regressor\", version=4, stage=\"Staging\", archive_existing_versions=False)\n"
     ]
    },
    {
     "data": {
      "text/plain": [
       "<ModelVersion: aliases=['hopeful'], creation_timestamp=1758620078905, current_stage='Staging', description=None, last_updated_timestamp=1758621499907, name='nyc-taxi-regressor', run_id='f933c26b98914d81a9ec2b0f9bf4551e', run_link=None, source='/home/jigar/DataTalksClub/mlops-zoomcamp/02-experiment-tracking/mlruns/1/f933c26b98914d81a9ec2b0f9bf4551e/artifacts/model', status='READY', status_message=None, tags={'model': 'etr'}, user_id=None, version=4>"
      ]
     },
     "execution_count": 78,
     "metadata": {},
     "output_type": "execute_result"
    }
   ],
   "source": [
    "# Or transition model stage (old mlflow model registry)\n",
    "client.transition_model_version_stage(name=model_name, version=4, stage=\"Staging\", archive_existing_versions=False)"
   ]
  },
  {
   "cell_type": "code",
   "execution_count": null,
   "metadata": {},
   "outputs": [
    {
     "data": {
      "text/plain": [
       "<ModelVersion: aliases=['hopeful'], creation_timestamp=1758620078905, current_stage='Staging', description='This model was transitioned to Staging on 2025-09-23', last_updated_timestamp=1758622002863, name='nyc-taxi-regressor', run_id='f933c26b98914d81a9ec2b0f9bf4551e', run_link=None, source='/home/jigar/DataTalksClub/mlops-zoomcamp/02-experiment-tracking/mlruns/1/f933c26b98914d81a9ec2b0f9bf4551e/artifacts/model', status='READY', status_message=None, tags={'model': 'etr'}, user_id=None, version=4>"
      ]
     },
     "execution_count": 89,
     "metadata": {},
     "output_type": "execute_result"
    }
   ],
   "source": [
    "# Add description\n",
    "\n",
    "from datetime import datetime\n",
    "\n",
    "date = datetime.today().date()\n",
    "\n",
    "client.update_model_version(\n",
    "    name=model_name,\n",
    "    version=4,\n",
    "    description=f\"This model was transitioned to Staging on {date}\"\n",
    "    )"
   ]
  },
  {
   "cell_type": "code",
   "execution_count": null,
   "id": "13c3c62e",
   "metadata": {},
   "outputs": [
    {
     "name": "stderr",
     "output_type": "stream",
     "text": [
      "/tmp/ipykernel_2282324/2566576819.py:2: FutureWarning: ``mlflow.tracking.client.MlflowClient.transition_model_version_stage`` is deprecated since 2.9.0. Model registry stages will be removed in a future major release. To learn more about the deprecation of model registry stages, see our migration guide here: https://mlflow.org/docs/latest/model-registry.html#migrating-from-stages\n",
      "  client.transition_model_version_stage(\n"
     ]
    },
    {
     "data": {
      "text/plain": [
       "<ModelVersion: aliases=['hopeful'], creation_timestamp=1758620078905, current_stage='Production', description='This model was transitioned to Staging on 2025-09-23', last_updated_timestamp=1758622371878, name='nyc-taxi-regressor', run_id='f933c26b98914d81a9ec2b0f9bf4551e', run_link=None, source='/home/jigar/DataTalksClub/mlops-zoomcamp/02-experiment-tracking/mlruns/1/f933c26b98914d81a9ec2b0f9bf4551e/artifacts/model', status='READY', status_message=None, tags={'model': 'etr'}, user_id=None, version=4>"
      ]
     },
     "execution_count": 90,
     "metadata": {},
     "output_type": "execute_result"
    }
   ],
   "source": [
    "# Push version 4 to production stage and the existing prod version to archive\n",
    "client.transition_model_version_stage(\n",
    "    name=model_name,\n",
    "    version=4,\n",
    "    stage=\"Production\",\n",
    "    archive_existing_versions=True\n",
    ")"
   ]
  },
  {
   "cell_type": "code",
   "execution_count": 91,
   "metadata": {},
   "outputs": [
    {
     "data": {
      "text/plain": [
       "<ModelVersion: aliases=['hopeful'], creation_timestamp=1758620078905, current_stage='Production', description='This model was transitioned to Production on 2025-09-23', last_updated_timestamp=1758622507836, name='nyc-taxi-regressor', run_id='f933c26b98914d81a9ec2b0f9bf4551e', run_link=None, source='/home/jigar/DataTalksClub/mlops-zoomcamp/02-experiment-tracking/mlruns/1/f933c26b98914d81a9ec2b0f9bf4551e/artifacts/model', status='READY', status_message=None, tags={'model': 'etr'}, user_id=None, version=4>"
      ]
     },
     "execution_count": 91,
     "metadata": {},
     "output_type": "execute_result"
    }
   ],
   "source": [
    "client.update_model_version(\n",
    "    name=model_name,\n",
    "    version=4,\n",
    "    description=f\"This model was transitioned to Production on {date}\"\n",
    "    )"
   ]
  },
  {
   "cell_type": "code",
   "execution_count": null,
   "metadata": {},
   "outputs": [],
   "source": []
  },
  {
   "cell_type": "code",
   "execution_count": null,
   "metadata": {},
   "outputs": [],
   "source": []
  },
  {
   "cell_type": "code",
   "execution_count": null,
   "metadata": {},
   "outputs": [],
   "source": []
  },
  {
   "cell_type": "code",
   "execution_count": null,
   "metadata": {},
   "outputs": [],
   "source": []
  },
  {
   "cell_type": "code",
   "execution_count": null,
   "metadata": {},
   "outputs": [],
   "source": []
  },
  {
   "cell_type": "code",
   "execution_count": null,
   "metadata": {},
   "outputs": [],
   "source": []
  },
  {
   "cell_type": "code",
   "execution_count": null,
   "metadata": {},
   "outputs": [],
   "source": []
  }
 ],
 "metadata": {
  "kernelspec": {
   "display_name": "dataScienceEnv",
   "language": "python",
   "name": "python3"
  },
  "language_info": {
   "codemirror_mode": {
    "name": "ipython",
    "version": 3
   },
   "file_extension": ".py",
   "mimetype": "text/x-python",
   "name": "python",
   "nbconvert_exporter": "python",
   "pygments_lexer": "ipython3",
   "version": "3.10.12"
  }
 },
 "nbformat": 4,
 "nbformat_minor": 5
}
